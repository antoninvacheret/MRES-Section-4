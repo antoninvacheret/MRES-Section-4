{
 "cells": [
  {
   "cell_type": "markdown",
   "id": "34a52ab7-163f-432a-99e7-dce81f45f1ac",
   "metadata": {
    "tags": []
   },
   "source": [
    "# Section 4 - Computer vision based machine learning #\n",
    "## Building CNNs with pyTorch ##\n",
    "\n",
    "## Dr. Antonin Vacheret (avachere@imperial.ac.uk) \n",
    "## High Energy Physics Group\n",
    "## 523 Blackett Lab"
   ]
  },
  {
   "cell_type": "markdown",
   "id": "0eaa24db-c3f1-4bab-8ce8-418368d1512d",
   "metadata": {},
   "source": [
    "In this second part we will:\n",
    "\n",
    "Star with: \n",
    "* look at the MNIST dataset\n",
    "* construct datasets, loaders and visualise the data\n",
    "* Build a MLP to classify the MNIST dataset\n",
    "\n",
    "and then:\n",
    "* Build a CNN based on the MNIST dataset features"
   ]
  },
  {
   "cell_type": "code",
   "execution_count": 41,
   "id": "35fd359d-c8f1-406b-b27e-4434f058e981",
   "metadata": {},
   "outputs": [],
   "source": [
    "import torch\n",
    "import torch.nn as nn \n",
    "import torch.nn.functional as F\n",
    "import torchvision\n",
    "from torchvision import transforms\n",
    "from torch import nn, optim\n",
    "import numpy as np\n",
    "import matplotlib.pyplot as plt\n",
    "from time import time\n",
    "import copy\n",
    "import pandas as pd "
   ]
  },
  {
   "cell_type": "markdown",
   "id": "adb8bc2f-7434-42e9-a12a-b4e239b14901",
   "metadata": {},
   "source": [
    "We are going to use here the datasets readily available in pytorch using ```torchvision.datasets```. We will need to define if the training set is used to train or test. We will add some transformations that are already available (ToTensor() and Normalise)."
   ]
  },
  {
   "cell_type": "code",
   "execution_count": 2,
   "id": "2853f979-ed53-4530-83fe-a3a0dc95d101",
   "metadata": {
    "tags": []
   },
   "outputs": [],
   "source": [
    "train = torchvision.datasets.MNIST(root='./data', download=True, train=True, transform=transforms.Compose([transforms.ToTensor()]))\n",
    "#train = torchvision.datasets.MNIST(root='./data', download=True, train=True, transform=transforms.Compose([transforms.ToTensor(),\n",
    " "
   ]
  },
  {
   "cell_type": "markdown",
   "id": "bc931f1b-ce2b-4cde-bf3f-fe893e1a2ae9",
   "metadata": {
    "tags": []
   },
   "source": [
    "Now we have a training sample based on MNIST we can instantiate a dataloader that will be used to provide training data to our model:"
   ]
  },
  {
   "cell_type": "code",
   "execution_count": 3,
   "id": "5416a9ca-2ea1-4dd7-9a81-3a44d7f31b69",
   "metadata": {},
   "outputs": [],
   "source": [
    "train_loader = torch.utils.data.DataLoader(dataset=train, shuffle=True, batch_size=10) #we can set the batch size for each interation"
   ]
  },
  {
   "cell_type": "markdown",
   "id": "ab206d84-fed7-4591-a820-46fe9e018b71",
   "metadata": {
    "tags": []
   },
   "source": [
    "It is now possible to visualise easily our dataset using the dataloader and explore:"
   ]
  },
  {
   "cell_type": "code",
   "execution_count": 4,
   "id": "058fc067-59d5-40e7-9951-3718d42922d2",
   "metadata": {},
   "outputs": [
    {
     "name": "stdout",
     "output_type": "stream",
     "text": [
      "image shape: torch.Size([10, 1, 28, 28]) \n",
      " label shape: torch.Size([10])\n"
     ]
    },
    {
     "data": {
      "image/png": "[encoded data removed]",
      "text/plain": [
       "<Figure size 1008x576 with 10 Axes>"
      ]
     },
     "metadata": {
      "needs_background": "light"
     },
     "output_type": "display_data"
    }
   ],
   "source": [
    "fig, ax = plt.subplots(2, 5, figsize=(14, 8))\n",
    "ax = ax.flatten()\n",
    "dataiter = iter(train_loader)\n",
    "images, labels = dataiter.next()\n",
    "print(\"image shape:\", images.shape, \"\\n label shape:\", labels.shape)\n",
    "for i in range(0, 10):\n",
    "    plottable_image = images[i].squeeze()\n",
    "    ax[i].imshow(plottable_image, cmap='gray')\n",
    "    ax[i].set_title(\"Label: {}\".format(labels[i]))\n",
    "fig.tight_layout()"
   ]
  },
  {
   "cell_type": "markdown",
   "id": "650ac8f1-ce63-46ff-bd1f-eefa19d62afd",
   "metadata": {},
   "source": [
    "Exercise: \n",
    "* write a Load_MNIST function that load the MNIST dataset both for training and testing and return four sets ```train,test,train_loader, test_loader```.\n",
    "* write a short function ```visualize_MNIST``` to visualise any number of digits using the dataloader"
   ]
  },
  {
   "cell_type": "code",
   "execution_count": 36,
   "id": "33824d2c-90ed-48fb-baa3-3758f11dd0a3",
   "metadata": {
    "tags": []
   },
   "outputs": [],
   "source": [
    "def load_MNIST():\n",
    "  \"\"\"Function to load and normalize MNIST data\"\"\" \n",
    "  train = torchvision.datasets.MNIST(root='./data', download=True, train=True, transform=transforms.Compose([transforms.ToTensor(),\n",
    "                                transforms.Normalize((0.5,), (0.5,)),\n",
    "                                ]))\n",
    "  test = torchvision.datasets.MNIST(root='./data', download=True, train=False, transform=transforms.Compose([transforms.ToTensor(),\n",
    "                                transforms.Normalize((0.5,), (0.5,)),\n",
    "                                ]))\n",
    "  print(\"MNIST dataset loaded and normalized.\")\n",
    "  train_loader = torch.utils.data.DataLoader(dataset=train, shuffle=True, batch_size=100)\n",
    "  test_loader = torch.utils.data.DataLoader(dataset=test, shuffle=False, batch_size=100)\n",
    "  print(\"PyTorch DataLoaders loaded.\")\n",
    "  return train, test, train_loader, test_loader"
   ]
  },
  {
   "cell_type": "code",
   "execution_count": 8,
   "id": "3f9194a8-5976-45b9-acbd-b31d2157872d",
   "metadata": {
    "tags": []
   },
   "outputs": [],
   "source": [
    "def visualize_MNIST(train_loader):\n",
    "  \"\"\"Function to visualize data given a DataLoader object\"\"\"\n",
    "  dataiter = iter(train_loader)\n",
    "  images, labels = dataiter.next()\n",
    "  print(\"image shape:\", images.shape, \"\\n label shape:\", labels.shape)\n",
    "  # visualize data\n",
    "  fig, ax = plt.subplots(2,5)\n",
    "  for i, ax in enumerate(ax.flatten()):\n",
    "      im_idx = np.argwhere(labels == i)[0][0]\n",
    "      plottable_image = images[im_idx].squeeze()\n",
    "      ax.imshow(plottable_image)"
   ]
  },
  {
   "cell_type": "code",
   "execution_count": 9,
   "id": "0d35f926-af8c-4c49-847a-5189e8994518",
   "metadata": {},
   "outputs": [
    {
     "name": "stdout",
     "output_type": "stream",
     "text": [
      "MNIST datset loaded and normalized.\n",
      "PyTorch DataLoaders loaded.\n",
      "image shape: torch.Size([100, 1, 28, 28]) \n",
      " label shape: torch.Size([100])\n"
     ]
    },
    {
     "data": {
      "image/png": "[encoded data removed]",
      "text/plain": [
       "<Figure size 432x288 with 10 Axes>"
      ]
     },
     "metadata": {
      "needs_background": "light"
     },
     "output_type": "display_data"
    }
   ],
   "source": [
    "# Load and visualize MNISt\n",
    "train, test, train_loader, test_loader = load_MNIST()\n",
    "visualize_MNIST(train_loader)"
   ]
  },
  {
   "cell_type": "markdown",
   "id": "380b04db-5227-4208-a043-3908a1759ba8",
   "metadata": {
    "tags": []
   },
   "source": [
    "### Let's now build a MLP based on a few layers"
   ]
  },
  {
   "cell_type": "code",
   "execution_count": 10,
   "id": "c8257ed5-a001-41c8-83b5-1c287751813c",
   "metadata": {},
   "outputs": [],
   "source": [
    "class Net(nn.Module):\n",
    "    \n",
    "  def __init__(self):\n",
    "    super(Net,self).__init__()\n",
    "    self.input_layer = nn.Linear(784, 1000, bias=False)\n",
    "    self.hidden1_layer = nn.Linear(1000, 1000, bias=False)\n",
    "    self.hidden2_layer = nn.Linear(1000, 500, bias=False)\n",
    "    self.hidden3_layer = nn.Linear(500, 200, bias=False)\n",
    "    self.hidden4_layer = nn.Linear(200, 10, bias=False)\n",
    "\n",
    "  def forward(self, x):\n",
    "    x = self.input_layer(x)\n",
    "    x = F.relu(x)\n",
    "    x = self.hidden1_layer(x)\n",
    "    x = F.relu(x)\n",
    "    x = self.hidden2_layer(x)\n",
    "    x = F.relu(x)\n",
    "    x = self.hidden3_layer(x)\n",
    "    x = F.relu(x)\n",
    "    x = self.hidden4_layer(x)\n",
    "    output = F.log_softmax(x, dim=1)\n",
    "\n",
    "    return output"
   ]
  },
  {
   "cell_type": "code",
   "execution_count": 28,
   "id": "a090196b-4ed4-4d65-b57e-3fbcaf50e5e6",
   "metadata": {},
   "outputs": [
    {
     "name": "stdout",
     "output_type": "stream",
     "text": [
      "Net(\n",
      "  (input_layer): Linear(in_features=784, out_features=1000, bias=False)\n",
      "  (hidden1_layer): Linear(in_features=1000, out_features=1000, bias=False)\n",
      "  (hidden2_layer): Linear(in_features=1000, out_features=500, bias=False)\n",
      "  (hidden3_layer): Linear(in_features=500, out_features=200, bias=False)\n",
      "  (hidden4_layer): Linear(in_features=200, out_features=10, bias=False)\n",
      ")\n"
     ]
    },
    {
     "data": {
      "text/plain": [
       "(2386000, [784000, 1000000, 500000, 100000, 2000])"
      ]
     },
     "execution_count": 28,
     "metadata": {},
     "output_type": "execute_result"
    }
   ],
   "source": [
    "print(model)\n",
    "numel_list = [p.numel() for p in model.parameters()]\n",
    "sum(numel_list), numel_list"
   ]
  },
  {
   "cell_type": "markdown",
   "id": "45610617-d45c-4c58-9ab7-f0358e497404",
   "metadata": {},
   "source": [
    "2.3M parameters !!! "
   ]
  },
  {
   "cell_type": "markdown",
   "id": "55daa136-2f31-46a2-9caf-03cb05cc2987",
   "metadata": {},
   "source": [
    "We need now to define a training function that will take care of the training sequence"
   ]
  },
  {
   "cell_type": "code",
   "execution_count": 23,
   "id": "8b77047c-e1e8-4f74-b92a-4709256b979a",
   "metadata": {},
   "outputs": [],
   "source": [
    "def train(model, train_loader, epochs=3, learning_rate=0.001):\n",
    "  \"\"\"Function to train a neural net\"\"\"\n",
    "\n",
    "  lossFunction = nn.CrossEntropyLoss()\n",
    "  optimizer = torch.optim.Adam(model.parameters(), lr=learning_rate)\n",
    "  time0 = time()\n",
    "  total_samples = 0 \n",
    "\n",
    "  for e in range(epochs):\n",
    "    print(\"Starting epoch\", e)\n",
    "    total_loss = 0\n",
    "\n",
    "    for idx, (images,labels) in enumerate(train_loader):\n",
    "      images = images.view(images.shape[0],-1) # flatten\n",
    "      optimizer.zero_grad() # forward pass\n",
    "      output = model(images)\n",
    "      loss = lossFunction(output,labels) # calculate loss\n",
    "      loss.backward() # backpropagate\n",
    "      optimizer.step() # update weights\n",
    "\n",
    "      total_samples += labels.size(0)\n",
    "      total_loss += loss.item()\n",
    "\n",
    "      if idx % 100 == 0:\n",
    "        print(\"Running loss:\", total_loss/ len(train_loader))\n",
    "\n",
    "  final_time = (time()-time0)/60 \n",
    "  print(\"Model trained in \", final_time, \"minutes on \", total_samples, \"samples\")\n"
   ]
  },
  {
   "cell_type": "code",
   "execution_count": 24,
   "id": "fc935044-4ab5-4204-849b-8dbb6afe92bb",
   "metadata": {},
   "outputs": [
    {
     "name": "stdout",
     "output_type": "stream",
     "text": [
      "Starting epoch 0\n",
      "Running loss: 0.0038385494550069173\n",
      "Running loss: 0.12676242349048455\n",
      "Running loss: 0.17930862842748563\n",
      "Running loss: 0.22309607322017352\n",
      "Running loss: 0.2579779248684645\n",
      "Running loss: 0.29246875358745456\n",
      "Starting epoch 1\n",
      "Running loss: 0.0002218827853600184\n",
      "Running loss: 0.026624268892531593\n",
      "Running loss: 0.051327713147426644\n",
      "Running loss: 0.07771997940726579\n",
      "Running loss: 0.10249545644658307\n",
      "Running loss: 0.12612930547756454\n",
      "Starting epoch 2\n",
      "Running loss: 0.00020371032257874807\n",
      "Running loss: 0.019230631329119206\n",
      "Running loss: 0.04061671435522536\n",
      "Running loss: 0.05909980909898877\n",
      "Running loss: 0.07787187367600078\n",
      "Running loss: 0.09454253256864224\n",
      "Model trained in  0.666598649819692 minutes on  180000 samples\n"
     ]
    }
   ],
   "source": [
    "model = Net()\n",
    "train(model, train_loader, 3) # 10 epochs"
   ]
  },
  {
   "cell_type": "code",
   "execution_count": null,
   "id": "43ec3dd9-6e9c-43a7-8e6f-dd5f0fae4e90",
   "metadata": {},
   "outputs": [],
   "source": []
  },
  {
   "cell_type": "code",
   "execution_count": 25,
   "id": "c7f982a7-14ee-4ba3-863d-98bb40050879",
   "metadata": {},
   "outputs": [],
   "source": [
    "def test(model, test_loader):\n",
    "  \"\"\"Test neural net\"\"\"\n",
    "\n",
    "  correct = 0\n",
    "  total = 0 \n",
    "\n",
    "  with torch.no_grad():\n",
    "    for idx, (images, labels) in enumerate(test_loader):\n",
    "      images = images.view(images.shape[0],-1) # flatten\n",
    "      output = model(images)\n",
    "      values, indices = torch.max(output.data, 1)\n",
    "      total += labels.size(0)\n",
    "      correct += (labels == indices).sum().item()\n",
    "\n",
    "    acc = correct / total * 100\n",
    "    # print(\"Accuracy: \", acc, \"% for \", total, \"training samples\")\n",
    "\n",
    "  return acc\n"
   ]
  },
  {
   "cell_type": "code",
   "execution_count": 26,
   "id": "879c2785-fd6f-43e2-93ab-7cc9db54a12a",
   "metadata": {},
   "outputs": [
    {
     "name": "stdout",
     "output_type": "stream",
     "text": [
      "The accuracy of our vanilla NN is 95.19999999999999 %\n"
     ]
    }
   ],
   "source": [
    "acc = test(model, test_loader)\n",
    "print(\"The accuracy of our vanilla NN is\", acc, \"%\")"
   ]
  },
  {
   "cell_type": "markdown",
   "id": "1c6e2eb1-1c99-4685-854c-e586bfa82447",
   "metadata": {
    "tags": []
   },
   "source": [
    "### Building a CNN classifier to compare"
   ]
  },
  {
   "cell_type": "code",
   "execution_count": 42,
   "id": "b44c9779-f7ca-49f9-956f-f10bbcf19ff5",
   "metadata": {},
   "outputs": [],
   "source": [
    "batch_size = 128\n",
    "device = torch.device('cpu')\n",
    "\n",
    "class Net(nn.Module):\n",
    "    def __init__(self):\n",
    "        super(Net, self).__init__()\n",
    "\n",
    "        self.conv_layers = nn.Sequential(\n",
    "            nn.Conv2d(1, 10, kernel_size=5),\n",
    "            nn.MaxPool2d(2),\n",
    "            nn.ReLU(),\n",
    "            nn.Conv2d(10, 20, kernel_size=5),\n",
    "            nn.Dropout(),\n",
    "            nn.MaxPool2d(2),\n",
    "            nn.ReLU(),\n",
    "        )\n",
    "        self.fc_layers = nn.Sequential(\n",
    "            nn.Linear(320, 50),\n",
    "            nn.ReLU(),\n",
    "            nn.Dropout(),\n",
    "            nn.Linear(50, 10),\n",
    "            nn.Softmax(dim=1)\n",
    "        )\n",
    "\n",
    "    def forward(self, x):\n",
    "        x = self.conv_layers(x)\n",
    "        x = x.view(-1, 320)\n",
    "        x = self.fc_layers(x)\n",
    "        return x\n",
    "\n"
   ]
  },
  {
   "cell_type": "code",
   "execution_count": 48,
   "id": "df855adf-c69f-485c-a729-6c63db9cdbe4",
   "metadata": {},
   "outputs": [
    {
     "name": "stdout",
     "output_type": "stream",
     "text": [
      "Net(\n",
      "  (conv_layers): Sequential(\n",
      "    (0): Conv2d(1, 10, kernel_size=(5, 5), stride=(1, 1))\n",
      "    (1): MaxPool2d(kernel_size=2, stride=2, padding=0, dilation=1, ceil_mode=False)\n",
      "    (2): ReLU()\n",
      "    (3): Conv2d(10, 20, kernel_size=(5, 5), stride=(1, 1))\n",
      "    (4): Dropout(p=0.5, inplace=False)\n",
      "    (5): MaxPool2d(kernel_size=2, stride=2, padding=0, dilation=1, ceil_mode=False)\n",
      "    (6): ReLU()\n",
      "  )\n",
      "  (fc_layers): Sequential(\n",
      "    (0): Linear(in_features=320, out_features=50, bias=True)\n",
      "    (1): ReLU()\n",
      "    (2): Dropout(p=0.5, inplace=False)\n",
      "    (3): Linear(in_features=50, out_features=10, bias=True)\n",
      "    (4): Softmax(dim=1)\n",
      "  )\n",
      ")\n"
     ]
    },
    {
     "data": {
      "text/plain": [
       "(21840, [250, 10, 5000, 20, 16000, 50, 500, 10])"
      ]
     },
     "execution_count": 48,
     "metadata": {},
     "output_type": "execute_result"
    }
   ],
   "source": [
    "print(model)\n",
    "numel_list = [p.numel() for p in model.parameters()]\n",
    "sum(numel_list), numel_list"
   ]
  },
  {
   "cell_type": "code",
   "execution_count": 43,
   "id": "edbc09fd-f3b7-4f3e-8f7e-1f3a844044e1",
   "metadata": {},
   "outputs": [
    {
     "name": "stdout",
     "output_type": "stream",
     "text": [
      "MNIST dataset loaded and normalized.\n",
      "PyTorch DataLoaders loaded.\n"
     ]
    }
   ],
   "source": [
    "train, test, train_loader, test_loader = load_MNIST()"
   ]
  },
  {
   "cell_type": "code",
   "execution_count": 44,
   "id": "940a2736-085e-4c2e-969e-dc605e5751d2",
   "metadata": {},
   "outputs": [],
   "source": [
    "def train(model, device, train_loader, optimizer, epoch):\n",
    "    model.train()\n",
    "    for batch_idx, (data, target) in enumerate(train_loader):\n",
    "        data, target = data.to(device), target.to(device)\n",
    "        optimizer.zero_grad()\n",
    "        output = model(data)\n",
    "        loss = F.nll_loss(output.log(), target)\n",
    "        loss.backward()\n",
    "        optimizer.step()\n",
    "        if batch_idx % 100 == 0:\n",
    "            print('Train Epoch: {} [{}/{} ({:.0f}%)]\\tLoss: {:.6f}'.format(\n",
    "                epoch, batch_idx * len(data), len(train_loader.dataset),\n",
    "                100. * batch_idx / len(train_loader), loss.item()))\n",
    "\n",
    "def test(model, device, test_loader):\n",
    "    model.eval()\n",
    "    test_loss = 0\n",
    "    correct = 0\n",
    "    with torch.no_grad():\n",
    "        for data, target in test_loader:\n",
    "            data, target = data.to(device), target.to(device)\n",
    "            output = model(data)\n",
    "            test_loss += F.nll_loss(output.log(), target).item() # sum up batch loss\n",
    "            pred = output.max(1, keepdim=True)[1] # get the index of the max log-probability\n",
    "            correct += pred.eq(target.view_as(pred)).sum().item()\n",
    "\n",
    "    test_loss /= len(test_loader.dataset)\n",
    "    print('\\nTest set: Average loss: {:.4f}, Accuracy: {}/{} ({:.0f}%)\\n'.format(\n",
    "        test_loss, correct, len(test_loader.dataset),\n",
    "    100. * correct / len(test_loader.dataset)))"
   ]
  },
  {
   "cell_type": "code",
   "execution_count": 45,
   "id": "92636f1b-befb-42d8-865e-a4592fc21622",
   "metadata": {},
   "outputs": [],
   "source": [
    "model = Net().to(device)\n",
    "optimizer = optim.SGD(model.parameters(), lr=0.01, momentum=0.5)"
   ]
  },
  {
   "cell_type": "code",
   "execution_count": 47,
   "id": "934a61b7-0bb0-4ea0-85f1-1cf1116629e5",
   "metadata": {},
   "outputs": [
    {
     "name": "stdout",
     "output_type": "stream",
     "text": [
      "Train Epoch: 1 [0/60000 (0%)]\tLoss: 0.358330\n",
      "Train Epoch: 1 [10000/60000 (17%)]\tLoss: 0.325604\n",
      "Train Epoch: 1 [20000/60000 (33%)]\tLoss: 0.426788\n",
      "Train Epoch: 1 [30000/60000 (50%)]\tLoss: 0.247547\n",
      "Train Epoch: 1 [40000/60000 (67%)]\tLoss: 0.172900\n",
      "Train Epoch: 1 [50000/60000 (83%)]\tLoss: 0.346222\n",
      "\n",
      "Test set: Average loss: 0.0014, Accuracy: 9682/10000 (97%)\n",
      "\n",
      "Train Epoch: 2 [0/60000 (0%)]\tLoss: 0.310042\n",
      "Train Epoch: 2 [10000/60000 (17%)]\tLoss: 0.231027\n",
      "Train Epoch: 2 [20000/60000 (33%)]\tLoss: 0.342012\n",
      "Train Epoch: 2 [30000/60000 (50%)]\tLoss: 0.277339\n",
      "Train Epoch: 2 [40000/60000 (67%)]\tLoss: 0.188407\n",
      "Train Epoch: 2 [50000/60000 (83%)]\tLoss: 0.334497\n",
      "\n",
      "Test set: Average loss: 0.0012, Accuracy: 9722/10000 (97%)\n",
      "\n",
      "Train Epoch: 3 [0/60000 (0%)]\tLoss: 0.217918\n",
      "Train Epoch: 3 [10000/60000 (17%)]\tLoss: 0.343809\n",
      "Train Epoch: 3 [20000/60000 (33%)]\tLoss: 0.177870\n",
      "Train Epoch: 3 [30000/60000 (50%)]\tLoss: 0.304612\n",
      "Train Epoch: 3 [40000/60000 (67%)]\tLoss: 0.130887\n",
      "Train Epoch: 3 [50000/60000 (83%)]\tLoss: 0.213188\n",
      "\n",
      "Test set: Average loss: 0.0010, Accuracy: 9746/10000 (97%)\n",
      "\n",
      "Train Epoch: 4 [0/60000 (0%)]\tLoss: 0.320006\n",
      "Train Epoch: 4 [10000/60000 (17%)]\tLoss: 0.173477\n",
      "Train Epoch: 4 [20000/60000 (33%)]\tLoss: 0.159621\n",
      "Train Epoch: 4 [30000/60000 (50%)]\tLoss: 0.132511\n",
      "Train Epoch: 4 [40000/60000 (67%)]\tLoss: 0.254390\n",
      "Train Epoch: 4 [50000/60000 (83%)]\tLoss: 0.198916\n",
      "\n",
      "Test set: Average loss: 0.0009, Accuracy: 9794/10000 (98%)\n",
      "\n",
      "Train Epoch: 5 [0/60000 (0%)]\tLoss: 0.224563\n",
      "Train Epoch: 5 [10000/60000 (17%)]\tLoss: 0.239577\n",
      "Train Epoch: 5 [20000/60000 (33%)]\tLoss: 0.102222\n",
      "Train Epoch: 5 [30000/60000 (50%)]\tLoss: 0.179784\n",
      "Train Epoch: 5 [40000/60000 (67%)]\tLoss: 0.124122\n",
      "Train Epoch: 5 [50000/60000 (83%)]\tLoss: 0.204824\n",
      "\n",
      "Test set: Average loss: 0.0008, Accuracy: 9804/10000 (98%)\n",
      "\n"
     ]
    }
   ],
   "source": [
    "num_epochs = 5\n",
    "\n",
    "for epoch in range(1, num_epochs + 1):\n",
    "    train(model, device, train_loader, optimizer, epoch)\n",
    "    test(model, device, test_loader)"
   ]
  },
  {
   "cell_type": "code",
   "execution_count": null,
   "id": "e8810c4e-ad16-4627-8640-542ca1eeed0d",
   "metadata": {},
   "outputs": [],
   "source": []
  }
 ],
 "metadata": {
  "kernelspec": {
   "display_name": "Python 3 (ipykernel)",
   "language": "python",
   "name": "python3"
  },
  "language_info": {
   "codemirror_mode": {
    "name": "ipython",
    "version": 3
   },
   "file_extension": ".py",
   "mimetype": "text/x-python",
   "name": "python",
   "nbconvert_exporter": "python",
   "pygments_lexer": "ipython3",
   "version": "3.8.8"
  }
 },
 "nbformat": 4,
 "nbformat_minor": 5
}
